{
  "nbformat": 4,
  "nbformat_minor": 0,
  "metadata": {
    "colab": {
      "name": "Logistic Regression Handwriting recognition.ipynb",
      "provenance": [],
      "include_colab_link": true
    },
    "kernelspec": {
      "name": "python3",
      "display_name": "Python 3"
    },
    "language_info": {
      "name": "python"
    }
  },
  "cells": [
    {
      "cell_type": "markdown",
      "metadata": {
        "id": "view-in-github",
        "colab_type": "text"
      },
      "source": [
        "<a href=\"https://colab.research.google.com/github/madhavanisetti/FML/blob/main/Logistic_Regression_Handwriting_recognition.ipynb\" target=\"_parent\"><img src=\"https://colab.research.google.com/assets/colab-badge.svg\" alt=\"Open In Colab\"/></a>"
      ]
    },
    {
      "cell_type": "code",
      "execution_count": null,
      "metadata": {
        "id": "CcgXBo-x2wks"
      },
      "outputs": [],
      "source": [
        "#import the packages\n",
        "\n",
        "import matplotlib.pyplot as plt\n",
        "import numpy as np\n",
        "from sklearn.datasets import load_digits\n",
        "from sklearn.linear_model import LogisticRegression\n",
        "from sklearn.metrics import classification_report, confusion_matrix\n",
        "from sklearn.model_selection import train_test_split\n",
        "from sklearn.preprocessing import StandardScaler"
      ]
    },
    {
      "cell_type": "markdown",
      "source": [
        "![image.png](data:image/png;base64,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)"
      ],
      "metadata": {
        "id": "RP1wMZXh3hNn"
      }
    },
    {
      "cell_type": "code",
      "source": [
        "#get data directly from scikit-learn\n",
        "X, y = load_digits(return_X_y=True)"
      ],
      "metadata": {
        "id": "Q_aMgcOZ2_5K"
      },
      "execution_count": null,
      "outputs": []
    },
    {
      "cell_type": "code",
      "source": [
        "X.shape, y.shape"
      ],
      "metadata": {
        "colab": {
          "base_uri": "https://localhost:8080/"
        },
        "id": "3YEXZCUp3Le8",
        "outputId": "60518c10-09d1-4ab0-ec73-5c3704ac6fba"
      },
      "execution_count": null,
      "outputs": [
        {
          "output_type": "execute_result",
          "data": {
            "text/plain": [
              "((1797, 64), (1797,))"
            ]
          },
          "metadata": {},
          "execution_count": 25
        }
      ]
    },
    {
      "cell_type": "code",
      "source": [
        "X[0], y[0]"
      ],
      "metadata": {
        "colab": {
          "base_uri": "https://localhost:8080/"
        },
        "id": "38IrODs63MmR",
        "outputId": "570cb991-e74d-40a4-e02e-41d4267ba560"
      },
      "execution_count": null,
      "outputs": [
        {
          "output_type": "execute_result",
          "data": {
            "text/plain": [
              "(array([ 0.,  0.,  5., 13.,  9.,  1.,  0.,  0.,  0.,  0., 13., 15., 10.,\n",
              "        15.,  5.,  0.,  0.,  3., 15.,  2.,  0., 11.,  8.,  0.,  0.,  4.,\n",
              "        12.,  0.,  0.,  8.,  8.,  0.,  0.,  5.,  8.,  0.,  0.,  9.,  8.,\n",
              "         0.,  0.,  4., 11.,  0.,  1., 12.,  7.,  0.,  0.,  2., 14.,  5.,\n",
              "        10., 12.,  0.,  0.,  0.,  0.,  6., 13., 10.,  0.,  0.,  0.]), 0)"
            ]
          },
          "metadata": {},
          "execution_count": 26
        }
      ]
    },
    {
      "cell_type": "code",
      "source": [
        "np.unique(y)"
      ],
      "metadata": {
        "colab": {
          "base_uri": "https://localhost:8080/"
        },
        "id": "9Z80Y8hZ3qcS",
        "outputId": "c4beaad9-6d76-4b9a-d8a8-fab90775ecdc"
      },
      "execution_count": null,
      "outputs": [
        {
          "output_type": "execute_result",
          "data": {
            "text/plain": [
              "array([0, 1, 2, 3, 4, 5, 6, 7, 8, 9])"
            ]
          },
          "metadata": {},
          "execution_count": 27
        }
      ]
    },
    {
      "cell_type": "code",
      "source": [
        "#split the data\n",
        "X_train, X_test, y_train, y_test =\\\n",
        "    train_test_split(X, y, test_size=0.2, random_state=0)"
      ],
      "metadata": {
        "id": "gllCTR2F3yey"
      },
      "execution_count": null,
      "outputs": []
    },
    {
      "cell_type": "markdown",
      "source": [
        "####Scale Data\n",
        "Standardization is the process of transforming data in a way such that the mean of each column becomes equal to zero, and the standard deviation of each column is one. This way, you obtain the same scale for all columns. Take the following steps to standardize your data:\n",
        "\n",
        "- Calculate the mean and standard deviation for each column.\n",
        "= Subtract the corresponding mean from each element.\n",
        "- Divide the obtained difference by the corresponding standard deviation.\n",
        "\n",
        "It’s a good practice to standardize the input data that you use for logistic regression, although in many cases it’s not necessary. Standardization might improve the performance of your algorithm. It helps if you need to compare and interpret the weights. It’s important when you apply penalization because the algorithm is actually penalizing against the large values of the weights.\n",
        "\n",
        "You can standardize your inputs by creating an instance of StandardScaler and calling .fit_transform() on it:"
      ],
      "metadata": {
        "id": "NxRj4Q2k4RqM"
      }
    },
    {
      "cell_type": "code",
      "source": [
        "X_train[0], np.mean(X_train[0]), np.std(X_train[0])"
      ],
      "metadata": {
        "colab": {
          "base_uri": "https://localhost:8080/"
        },
        "id": "nj1MeNIH42Bv",
        "outputId": "e8d8818f-2856-40be-9fc4-56aae9ea5b13"
      },
      "execution_count": null,
      "outputs": [
        {
          "output_type": "execute_result",
          "data": {
            "text/plain": [
              "(array([ 0.,  0.,  0.,  9., 15.,  2.,  0.,  0.,  0.,  0.,  5., 16., 11.,\n",
              "         1.,  0.,  0.,  0.,  0., 13., 15.,  1.,  0.,  0.,  0.,  0.,  2.,\n",
              "        16., 11.,  0.,  0.,  0.,  0.,  0.,  2., 16., 11.,  4.,  4.,  0.,\n",
              "         0.,  0.,  2., 15., 16., 16., 14., 10.,  1.,  0.,  0.,  9., 16.,\n",
              "         7.,  3., 15.,  6.,  0.,  0.,  0.,  7., 15., 16., 16.,  6.]),\n",
              " 5.375,\n",
              " 6.3356629487370935)"
            ]
          },
          "metadata": {},
          "execution_count": 29
        }
      ]
    },
    {
      "cell_type": "code",
      "source": [
        "scaler = StandardScaler()\n",
        "X_train = scaler.fit_transform(X_train)"
      ],
      "metadata": {
        "id": "Aa2-N1Fv4Ljs"
      },
      "execution_count": null,
      "outputs": []
    },
    {
      "cell_type": "code",
      "source": [
        "X_train[0], np.mean(X_train[0]), np.std(X_train[0])"
      ],
      "metadata": {
        "colab": {
          "base_uri": "https://localhost:8080/"
        },
        "id": "tOM3Cb6p4j04",
        "outputId": "9399a30c-2798-4fa0-ceec-c103e5d0402c"
      },
      "execution_count": null,
      "outputs": [
        {
          "output_type": "execute_result",
          "data": {
            "text/plain": [
              "(array([ 0.        , -0.33790435, -1.09141592, -0.64913206,  0.73480922,\n",
              "        -0.6782652 , -0.40764783, -0.12238102, -0.05576317, -0.62606288,\n",
              "        -0.99058772,  0.99749054,  0.13213489, -1.19579353, -0.51556231,\n",
              "        -0.12605859, -0.03733267, -0.72296123,  0.55610538,  1.38118964,\n",
              "        -0.98465664, -1.26284019, -0.55465252, -0.11565628, -0.02638899,\n",
              "        -0.15208278,  1.10759523,  0.37163491, -1.60830723, -1.28974179,\n",
              "        -0.63555933, -0.04573894,  0.        , -0.10276083,  1.32734049,\n",
              "         0.31000002, -1.05452978, -0.80512633, -0.83498919,  0.        ,\n",
              "        -0.05806465,  0.13008703,  1.23225418,  1.35913603,  1.32341669,\n",
              "         1.01539823,  1.51779287,  3.19368333, -0.03963009, -0.40398151,\n",
              "         0.25100815,  1.22276113, -0.47996928, -0.96182318,  2.3466476 ,\n",
              "         6.15487177, -0.02638899, -0.30140625, -1.0865776 , -1.14418634,\n",
              "         0.65337948,  1.58325794,  3.53125595,  3.30213343]),\n",
              " 0.221929014610994,\n",
              " 1.3327685970226733)"
            ]
          },
          "metadata": {},
          "execution_count": 31
        }
      ]
    },
    {
      "cell_type": "code",
      "source": [
        "#create a model and train it\n",
        "model = LogisticRegression(C=0.05, multi_class='ovr',random_state=0)\n",
        "model.fit(X_train, y_train)"
      ],
      "metadata": {
        "colab": {
          "base_uri": "https://localhost:8080/"
        },
        "id": "8jjgntTb4nzy",
        "outputId": "da1350b6-3c34-48fa-89af-08da943f4e9b"
      },
      "execution_count": null,
      "outputs": [
        {
          "output_type": "execute_result",
          "data": {
            "text/plain": [
              "LogisticRegression(C=0.05, multi_class='ovr', random_state=0)"
            ]
          },
          "metadata": {},
          "execution_count": 32
        }
      ]
    },
    {
      "cell_type": "code",
      "source": [
        "#evaluate the model\n",
        "X_test = scaler.transform(X_test)\n",
        "y_pred = model.predict(X_test)\n"
      ],
      "metadata": {
        "id": "1y6FOBKm5hhT"
      },
      "execution_count": null,
      "outputs": []
    },
    {
      "cell_type": "code",
      "source": [
        "model.score(X_train, y_train)"
      ],
      "metadata": {
        "colab": {
          "base_uri": "https://localhost:8080/"
        },
        "id": "QW90lA8v5ywm",
        "outputId": "1b88c5ea-b817-43f9-95e3-dd5943679fb4"
      },
      "execution_count": null,
      "outputs": [
        {
          "output_type": "execute_result",
          "data": {
            "text/plain": [
              "0.9707724425887265"
            ]
          },
          "metadata": {},
          "execution_count": 35
        }
      ]
    },
    {
      "cell_type": "code",
      "source": [
        "model.score(X_test, y_test)"
      ],
      "metadata": {
        "colab": {
          "base_uri": "https://localhost:8080/"
        },
        "id": "POKU0ahZ54ml",
        "outputId": "ce193c34-fe78-4630-f5e1-9a9a790d723b"
      },
      "execution_count": null,
      "outputs": [
        {
          "output_type": "execute_result",
          "data": {
            "text/plain": [
              "0.9555555555555556"
            ]
          },
          "metadata": {},
          "execution_count": 36
        }
      ]
    },
    {
      "cell_type": "code",
      "source": [
        "confusion_matrix(y_test, y_pred)"
      ],
      "metadata": {
        "colab": {
          "base_uri": "https://localhost:8080/"
        },
        "id": "VQQ-Jd6E59gS",
        "outputId": "b0fb76a1-2c9c-4607-89ab-8118a18d6356"
      },
      "execution_count": null,
      "outputs": [
        {
          "output_type": "execute_result",
          "data": {
            "text/plain": [
              "array([[27,  0,  0,  0,  0,  0,  0,  0,  0,  0],\n",
              "       [ 0, 31,  0,  0,  0,  0,  1,  0,  1,  2],\n",
              "       [ 0,  0, 35,  0,  0,  0,  0,  1,  0,  0],\n",
              "       [ 0,  0,  0, 29,  0,  0,  0,  0,  0,  0],\n",
              "       [ 0,  0,  0,  0, 29,  0,  0,  1,  0,  0],\n",
              "       [ 0,  0,  0,  0,  0, 39,  0,  0,  0,  1],\n",
              "       [ 0,  1,  0,  0,  0,  0, 43,  0,  0,  0],\n",
              "       [ 0,  0,  0,  0,  1,  0,  0, 38,  0,  0],\n",
              "       [ 0,  2,  1,  1,  0,  0,  0,  0, 35,  0],\n",
              "       [ 0,  0,  0,  0,  0,  1,  0,  1,  1, 38]])"
            ]
          },
          "metadata": {},
          "execution_count": 37
        }
      ]
    },
    {
      "cell_type": "code",
      "source": [
        "print(classification_report(y_test, y_pred))"
      ],
      "metadata": {
        "colab": {
          "base_uri": "https://localhost:8080/"
        },
        "id": "3DQULCY86BYT",
        "outputId": "4457909b-bc4a-43a5-e0d3-98ac5eeb81d0"
      },
      "execution_count": null,
      "outputs": [
        {
          "output_type": "stream",
          "name": "stdout",
          "text": [
            "              precision    recall  f1-score   support\n",
            "\n",
            "           0       1.00      1.00      1.00        27\n",
            "           1       0.91      0.89      0.90        35\n",
            "           2       0.97      0.97      0.97        36\n",
            "           3       0.97      1.00      0.98        29\n",
            "           4       0.97      0.97      0.97        30\n",
            "           5       0.97      0.97      0.97        40\n",
            "           6       0.98      0.98      0.98        44\n",
            "           7       0.93      0.97      0.95        39\n",
            "           8       0.95      0.90      0.92        39\n",
            "           9       0.93      0.93      0.93        41\n",
            "\n",
            "    accuracy                           0.96       360\n",
            "   macro avg       0.96      0.96      0.96       360\n",
            "weighted avg       0.96      0.96      0.96       360\n",
            "\n"
          ]
        }
      ]
    },
    {
      "cell_type": "code",
      "source": [
        ""
      ],
      "metadata": {
        "id": "vHLjPC7S6H3x"
      },
      "execution_count": null,
      "outputs": []
    }
  ]
}